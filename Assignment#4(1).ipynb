{
 "cells": [
  {
   "cell_type": "code",
   "execution_count": null,
   "id": "600d9944",
   "metadata": {},
   "outputs": [],
   "source": [
    "\"\"\"1. Make a calculator using Python with addition , subtraction ,\n",
    "multiplication ,division and power.\"\"\"\n",
    "\n",
    "def add(x,y):\n",
    "    return(x + y)\n",
    "def subtract(x,y):\n",
    "    return(x - y)\n",
    "def multiply(x,y):\n",
    "    return(x * y)\n",
    "def divide(x,y):\n",
    "    return(x / y)\n",
    "def power(x,y):\n",
    "    return(x ** y)\n",
    "\n",
    "no1=eval(input(\"ENTER THE FIRST NUMBER...\"))\n",
    "no2=eval(input(\"ENTER THE SECOND NUMBER...\"))\n",
    "               \n",
    "print(\"\\nPLZ SELECT THE OPTION\\n\")\n",
    "print(\"1. ADDITION\")\n",
    "print(\"2. SUBTRACTION\")\n",
    "print(\"3. MULTIPLICATION\")\n",
    "print(\"4. DIVIDE\")\n",
    "print(\"5. POWER\")\n",
    "print(\"6. EXIT\\n\")\n",
    "\n",
    "while(True):\n",
    "    choice=int(input(\"ENTER THE CHOICE FROM (1/2/3/4/5/6)-->\"))\n",
    "    if choice in (1,2,3,4,5,6):\n",
    "        if choice==1:\n",
    "            print(\"THE EDITION OF TWO NUMBERS\",no1,\"and\",no2,\"ARE\",add(no1,no2),\"\\n\")\n",
    "        elif choice==2:\n",
    "            print(\"\\nTHE SUBTRACTION OF TWO NUMBERS\",no1,\"and\",no2,\"ARE\",subtract(no1,no2),\"\\n\")\n",
    "        elif choice==3:\n",
    "            print(\"\\nTHE MULTIPLICATION OF TWO NUMBERS\",no1,\"and\",no2,\"ARE\",multiply(no1,no2),\"\\n\")    \n",
    "        elif choice==4:\n",
    "            print(\"\\nTHE DIVISION OF TWO NUMBERS\",no1,\"and\",no2,\"ARE\",divide(no1,no2),\"\\n\")\n",
    "        elif choice==5:\n",
    "            print(\"\\nTHE POWER OF TWO NUMBERS\",no1,\"and\",no2,\"ARE\",power(no1,no2),\"\\n\")    \n",
    "        elif choice==6:\n",
    "            print(\"\\nTHANK YOU :)\")\n",
    "            exit()\n",
    "    else:\n",
    "        print(\"INVALID CHOICE TRY AGAIN (':')\")"
   ]
  },
  {
   "cell_type": "code",
   "execution_count": null,
   "id": "eb0e6304",
   "metadata": {},
   "outputs": [],
   "source": []
  }
 ],
 "metadata": {
  "kernelspec": {
   "display_name": "Python 3",
   "language": "python",
   "name": "python3"
  }
 },
 "nbformat": 4,
 "nbformat_minor": 5
}
