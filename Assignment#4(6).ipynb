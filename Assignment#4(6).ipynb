{
 "cells": [
  {
   "cell_type": "code",
   "execution_count": 1,
   "id": "d205b6b1",
   "metadata": {},
   "outputs": [
    {
     "name": "stdout",
     "output_type": "stream",
     "text": [
      "Key is already exists in the dictionary\n",
      "Key is not exists in the dictionary\n"
     ]
    }
   ],
   "source": [
    "\"\"\"6. Write a Python script to check if a given key already exists in a\n",
    "dictionary\"\"\"\n",
    "\n",
    "d = {1: 10, 2: 20, 3: 30, 4: 40, 5: 50, 6: 60}\n",
    "def is_key_exists(x):\n",
    "  if x in d:\n",
    "      print('Key is already exists in the dictionary')\n",
    "  else:\n",
    "      print('Key is not exists in the dictionary')\n",
    "is_key_exists(5)\n",
    "is_key_exists(9)"
   ]
  },
  {
   "cell_type": "code",
   "execution_count": null,
   "id": "1b416853",
   "metadata": {},
   "outputs": [],
   "source": []
  }
 ],
 "metadata": {
  "kernelspec": {
   "display_name": "Python 3",
   "language": "python",
   "name": "python3"
  },
  "language_info": {
   "codemirror_mode": {
    "name": "ipython",
    "version": 3
   },
   "file_extension": ".py",
   "mimetype": "text/x-python",
   "name": "python",
   "nbconvert_exporter": "python",
   "pygments_lexer": "ipython3",
   "version": "3.8.8"
  }
 },
 "nbformat": 4,
 "nbformat_minor": 5
}
