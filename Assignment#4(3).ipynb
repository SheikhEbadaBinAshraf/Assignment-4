{
 "cells": [
  {
   "cell_type": "code",
   "execution_count": 1,
   "id": "cf0c660e",
   "metadata": {},
   "outputs": [
    {
     "name": "stdout",
     "output_type": "stream",
     "text": [
      "{1: 10, 2: 40}\n",
      "{1: 10, 2: 40, 10: 30}\n"
     ]
    }
   ],
   "source": [
    "\"\"\"3. Write a Python script to add a key to a dictionary.\"\"\"\n",
    "\n",
    "d = {1:10, 2:40}\n",
    "print(d)\n",
    "d.update({10:30})\n",
    "print(d)"
   ]
  },
  {
   "cell_type": "code",
   "execution_count": null,
   "id": "a19627dc",
   "metadata": {},
   "outputs": [],
   "source": []
  }
 ],
 "metadata": {
  "kernelspec": {
   "display_name": "Python 3",
   "language": "python",
   "name": "python3"
  },
  "language_info": {
   "codemirror_mode": {
    "name": "ipython",
    "version": 3
   },
   "file_extension": ".py",
   "mimetype": "text/x-python",
   "name": "python",
   "nbconvert_exporter": "python",
   "pygments_lexer": "ipython3",
   "version": "3.8.8"
  }
 },
 "nbformat": 4,
 "nbformat_minor": 5
}
